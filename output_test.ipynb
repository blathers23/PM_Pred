{
 "cells": [
  {
   "cell_type": "code",
   "execution_count": 1,
   "metadata": {},
   "outputs": [],
   "source": [
    "import torch \n",
    "import tools\n",
    "\n",
    "device = tools.try_gpu()\n",
    "\n",
    "from nets import ConvLSTM as net\n",
    "\n",
    "RNN = net(input_dim=32, hidden_dim=16, kernel_size=3, dec_kernel_size=3,\n",
    "            num_layers=2, batch_first=True, bias=True).to(device)\n",
    "\n",
    "x = torch.rand((8, 5, 32, 128, 128)).to(device)    # (b, t, c, h, w) "
   ]
  },
  {
   "cell_type": "code",
   "execution_count": 2,
   "metadata": {},
   "outputs": [],
   "source": [
    "pred = RNN(x)"
   ]
  },
  {
   "cell_type": "code",
   "execution_count": 3,
   "metadata": {},
   "outputs": [
    {
     "data": {
      "text/plain": [
       "torch.Size([8, 128, 128])"
      ]
     },
     "execution_count": 3,
     "metadata": {},
     "output_type": "execute_result"
    }
   ],
   "source": [
    "pred.shape"
   ]
  },
  {
   "cell_type": "code",
   "execution_count": 4,
   "metadata": {},
   "outputs": [],
   "source": [
    "import tools\n",
    "import numpy as np \n",
    "\n",
    "my_seq = np.random.randn(30, 64, 128, 128)\n",
    "iter = tools.seq_data_iter_random(my_seq, batch_size=2, num_steps=5)\n",
    "X, Y = next(iter)"
   ]
  },
  {
   "cell_type": "code",
   "execution_count": 5,
   "metadata": {},
   "outputs": [
    {
     "data": {
      "text/plain": [
       "(torch.Size([2, 5, 128, 128]), torch.Size([2, 5, 128, 128]))"
      ]
     },
     "execution_count": 5,
     "metadata": {},
     "output_type": "execute_result"
    }
   ],
   "source": [
    "X.shape, Y.shape"
   ]
  }
 ],
 "metadata": {
  "interpreter": {
   "hash": "7ec9247c02b92e72991055269c912575bf52f3a546c106cb66dc216d488c8c43"
  },
  "kernelspec": {
   "display_name": "Python 3.9.7 ('d2l')",
   "language": "python",
   "name": "python3"
  },
  "language_info": {
   "codemirror_mode": {
    "name": "ipython",
    "version": 3
   },
   "file_extension": ".py",
   "mimetype": "text/x-python",
   "name": "python",
   "nbconvert_exporter": "python",
   "pygments_lexer": "ipython3",
   "version": "3.9.7"
  },
  "orig_nbformat": 4
 },
 "nbformat": 4,
 "nbformat_minor": 2
}
