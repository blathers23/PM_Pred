{
 "cells": [
  {
   "cell_type": "markdown",
   "metadata": {},
   "source": [
    "# 引入仓库及常量\n",
    "---"
   ]
  },
  {
   "cell_type": "code",
   "execution_count": null,
   "metadata": {},
   "outputs": [],
   "source": [
    "import tools\n",
    "import numpy as np \n",
    "import plotly \n",
    "import plotly.express as px\n",
    "\n",
    "PATH = tools.Get_PATH()\n",
    "device = tools.try_gpu()"
   ]
  },
  {
   "cell_type": "markdown",
   "metadata": {},
   "source": [
    "# 控制变量\n",
    "---"
   ]
  },
  {
   "cell_type": "code",
   "execution_count": null,
   "metadata": {},
   "outputs": [],
   "source": [
    "Weigth_Decay = 0\n",
    "Kernel_Size = 5\n",
    "Batch_Size = 4\n",
    "Num_Steps = 5\n",
    "Model = \"GRU\"\n",
    "\n",
    "Use_Random_Iter = True\n",
    "Dec_Kernel_Size = Kernel_Size\n",
    "Num_Layers = 3\n",
    "Hidden_Dim = 64\n",
    "Learning_Rate = 0.0005\n",
    "Num_Epochs = 100\n",
    "\n",
    "Input_Dim = 30"
   ]
  },
  {
   "cell_type": "markdown",
   "metadata": {},
   "source": [
    "# 引入 DataLoader\n",
    "---"
   ]
  },
  {
   "cell_type": "code",
   "execution_count": null,
   "metadata": {},
   "outputs": [],
   "source": [
    "train_data = np.load('./Data/train_dataset.npy')\n",
    "train_iter = tools.SeqDataLoader(train_data, batch_size=Batch_Size, num_steps=Num_Steps, use_random_iter=Use_Random_Iter, path=PATH, exceptlist=[87])\n",
    "\n",
    "test_data = np.load('./Data/test_dataset.npy')\n",
    "test_iter = tools.SeqDataLoader(test_data, batch_size=Batch_Size, num_steps=Num_Steps, use_random_iter=Use_Random_Iter)\n",
    "\n",
    "train_channel = train_data.shape[1]\n",
    "test_channel = test_data.shape[1]\n",
    "\n",
    "assert train_channel == test_channel == Input_Dim"
   ]
  },
  {
   "cell_type": "markdown",
   "metadata": {},
   "source": [
    "# 引入模型\n",
    "---"
   ]
  },
  {
   "cell_type": "code",
   "execution_count": null,
   "metadata": {},
   "outputs": [],
   "source": [
    "if Model == \"GRU\":\n",
    "    from nets import ConvGRU as net\n",
    "\n",
    "elif Model == \"LSTM\":\n",
    "    from nets import ConvLSTM as net\n",
    "\n",
    "else:\n",
    "    raise NotImplementedError()\n",
    "\n",
    "RNN = net(input_dim=Input_Dim, hidden_dim=Hidden_Dim, kernel_size=Kernel_Size, dec_kernel_size=Dec_Kernel_Size,\n",
    "            num_layers=Num_Layers, batch_first=True, bias=True).to(device)\n",
    "\n",
    "RNN.summary(PATH)"
   ]
  },
  {
   "cell_type": "markdown",
   "metadata": {},
   "source": [
    "# 训练模型\n",
    "---"
   ]
  },
  {
   "cell_type": "code",
   "execution_count": null,
   "metadata": {},
   "outputs": [],
   "source": [
    "tools.train(RNN, train_iter, Learning_Rate, Num_Epochs, device, use_random_iter=Use_Random_Iter, path=PATH, eval=test_iter)"
   ]
  },
  {
   "cell_type": "markdown",
   "metadata": {},
   "source": [
    "# 模型保存\n",
    "---"
   ]
  },
  {
   "cell_type": "code",
   "execution_count": null,
   "metadata": {},
   "outputs": [],
   "source": [
    "# tools.save(RNN, PATH)"
   ]
  },
  {
   "cell_type": "markdown",
   "metadata": {},
   "source": [
    "# 模型评估\n",
    "---"
   ]
  },
  {
   "cell_type": "code",
   "execution_count": null,
   "metadata": {},
   "outputs": [],
   "source": [
    "MSE = tools.evaluate(RNN, test_iter, device)\n",
    "\n",
    "# with open(PATH + \"/log.txt\",\"a\") as f:\n",
    "#     f.write(\"\\n-----------TEST_RESULT-----------\\n\")\n",
    "#     f.write(\"MSE:\\t\" + str(MSE) + \"\\n\")\n",
    "\n",
    "print(\"MSE on test dataset:\\t\", MSE)"
   ]
  },
  {
   "cell_type": "markdown",
   "metadata": {},
   "source": [
    "# 绘图\n",
    "---"
   ]
  },
  {
   "cell_type": "code",
   "execution_count": null,
   "metadata": {},
   "outputs": [],
   "source": [
    "test_data_iter = iter(test_iter)"
   ]
  },
  {
   "cell_type": "code",
   "execution_count": null,
   "metadata": {},
   "outputs": [],
   "source": [
    "X, Y = next(test_data_iter)"
   ]
  },
  {
   "cell_type": "code",
   "execution_count": null,
   "metadata": {},
   "outputs": [],
   "source": [
    "fig = px.imshow(np.array(Y[0]))\n",
    "fig.show()\n",
    "plotly.plot(fig, filename=PATH + '/test_groundture.svg', image='svg')"
   ]
  },
  {
   "cell_type": "code",
   "execution_count": null,
   "metadata": {},
   "outputs": [],
   "source": [
    "pred, _ = RNN(X.to(device))\n",
    "pred = pred.cpu().detach().numpy()\n",
    "fig = px.imshow(pred[0])\n",
    "fig.show()\n",
    "plotly.plot(fig, filename=PATH + '/test_predictions.svg', image='svg')"
   ]
  },
  {
   "cell_type": "code",
   "execution_count": null,
   "metadata": {},
   "outputs": [],
   "source": [
    "((pred - Y) ** 2).mean()"
   ]
  }
 ],
 "metadata": {
  "interpreter": {
   "hash": "7ec9247c02b92e72991055269c912575bf52f3a546c106cb66dc216d488c8c43"
  },
  "kernelspec": {
   "display_name": "Python 3.9.7 ('d2l')",
   "language": "python",
   "name": "python3"
  },
  "language_info": {
   "name": "python",
   "version": "3.9.7"
  },
  "orig_nbformat": 4
 },
 "nbformat": 4,
 "nbformat_minor": 2
}
