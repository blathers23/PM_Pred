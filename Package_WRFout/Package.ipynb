{
 "cells": [
  {
   "cell_type": "markdown",
   "metadata": {},
   "source": [
    "#### 将所选 Key 的值打包为 npy 格式\n",
    "---"
   ]
  },
  {
   "cell_type": "code",
   "execution_count": 1,
   "metadata": {},
   "outputs": [],
   "source": [
    "import netCDF4 as nc\n",
    "import numpy as np\n",
    "\n",
    "file = 'wrfout_d01_2018-01-25_00_00_00'\n",
    "dataset = nc.Dataset(file)\n",
    "# key = ['PM10', 'PM2_5_DRY', 'U', 'V', 'QVAPOR','CLDFRA','so2','no2', 'no','so4aj', 'so4ai', 'nh4aj', 'nh4ai', 'no3aj', 'no3ai', 'orgaro1j', 'orgaro1i', 'orgaro2j', 'orgaro2i', 'orgalk1j', 'orgalk1i', 'orgole1j', 'orgole1i', 'orgpaj', 'orgpai', 'ecj', 'eci', 'p25j', 'p25i', 'antha']\n",
    "key = ['PM10', 'PM2_5_DRY', 'U', 'V', 'QVAPOR','CLDFRA','QRAIN','QICE','QSNOW','QGRAUP','CLDFRA','so2','sulf','no2', 'no','o3','hno3','h2o2','ald','hcho','op1','op2','paa','ora1','ora2','nh3','n2o5','no3','pan','hc3','hc5','hc8','eth','co','ol2','olt','oli','tol','xyl','aco3','tpan','hono','hno4','ket','gly','mgly','dcb','onit','csl','iso','hcl','ho','ho2','so4aj', 'so4ai', 'nh4aj', 'nh4ai', 'no3aj', 'no3ai', 'naaj','naai','claj','clai','orgaro1j', 'orgaro1i', 'orgaro2j', 'orgaro2i', 'orgalk1j', 'orgalk1i', 'orgole1j', 'orgole1i', 'orgpaj', 'orgpai', 'ecj', 'eci', 'p25j', 'p25i', 'antha']"
   ]
  },
  {
   "cell_type": "code",
   "execution_count": 2,
   "metadata": {},
   "outputs": [
    {
     "name": "stdout",
     "output_type": "stream",
     "text": [
      "PM10\n",
      "PM2_5_DRY\n",
      "U\n",
      "V\n",
      "QVAPOR\n",
      "CLDFRA\n",
      "QRAIN\n",
      "QICE\n",
      "QSNOW\n",
      "QGRAUP\n",
      "CLDFRA\n",
      "so2\n",
      "sulf\n",
      "no2\n",
      "no\n",
      "o3\n",
      "hno3\n",
      "h2o2\n",
      "ald\n",
      "hcho\n",
      "op1\n",
      "op2\n",
      "paa\n",
      "ora1\n",
      "ora2\n",
      "nh3\n",
      "n2o5\n",
      "no3\n",
      "pan\n",
      "hc3\n",
      "hc5\n",
      "hc8\n",
      "eth\n",
      "co\n",
      "ol2\n",
      "olt\n",
      "oli\n",
      "tol\n",
      "xyl\n",
      "aco3\n",
      "tpan\n",
      "hono\n",
      "hno4\n",
      "ket\n",
      "gly\n",
      "mgly\n",
      "dcb\n",
      "onit\n",
      "csl\n",
      "iso\n",
      "hcl\n",
      "ho\n",
      "ho2\n",
      "so4aj\n",
      "so4ai\n",
      "nh4aj\n",
      "nh4ai\n",
      "no3aj\n",
      "no3ai\n",
      "naaj\n",
      "naai\n",
      "claj\n",
      "clai\n",
      "orgaro1j\n",
      "orgaro1i\n",
      "orgaro2j\n",
      "orgaro2i\n",
      "orgalk1j\n",
      "orgalk1i\n",
      "orgole1j\n",
      "orgole1i\n",
      "orgpaj\n",
      "orgpai\n",
      "ecj\n",
      "eci\n",
      "p25j\n",
      "p25i\n",
      "antha\n"
     ]
    }
   ],
   "source": [
    "data = np.zeros((55,1,90,90))\n",
    "for var in key:\n",
    "    print(var)\n",
    "    data = np.concatenate([data, dataset.variables[var][:,5,:90,:90].data.reshape(55,1,90,90)], 1)"
   ]
  },
  {
   "cell_type": "code",
   "execution_count": 3,
   "metadata": {},
   "outputs": [
    {
     "data": {
      "text/plain": [
       "(55, 78, 90, 90)"
      ]
     },
     "execution_count": 3,
     "metadata": {},
     "output_type": "execute_result"
    }
   ],
   "source": [
    "data = data[:,1:,:,:]\n",
    "data.shape"
   ]
  },
  {
   "cell_type": "code",
   "execution_count": 4,
   "metadata": {},
   "outputs": [],
   "source": [
    "np.save('test_dataset.npy', data)"
   ]
  },
  {
   "cell_type": "code",
   "execution_count": null,
   "metadata": {},
   "outputs": [],
   "source": []
  }
 ],
 "metadata": {
  "interpreter": {
   "hash": "7ec9247c02b92e72991055269c912575bf52f3a546c106cb66dc216d488c8c43"
  },
  "kernelspec": {
   "display_name": "Python 3.9.7 ('d2l')",
   "language": "python",
   "name": "python3"
  },
  "language_info": {
   "codemirror_mode": {
    "name": "ipython",
    "version": 3
   },
   "file_extension": ".py",
   "mimetype": "text/x-python",
   "name": "python",
   "nbconvert_exporter": "python",
   "pygments_lexer": "ipython3",
   "version": "3.9.7"
  },
  "orig_nbformat": 4
 },
 "nbformat": 4,
 "nbformat_minor": 2
}
