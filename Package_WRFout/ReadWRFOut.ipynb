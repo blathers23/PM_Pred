{
 "cells": [
  {
   "cell_type": "markdown",
   "metadata": {},
   "source": [
    "#### 读取数据并打印全部变量名\n",
    "---"
   ]
  },
  {
   "cell_type": "code",
   "execution_count": 1,
   "metadata": {},
   "outputs": [
    {
     "name": "stdout",
     "output_type": "stream",
     "text": [
      "dict_keys(['Times', 'XLAT', 'XLONG', 'LU_INDEX', 'ZNU', 'ZNW', 'ZS', 'DZS', 'VAR_SSO', 'U', 'V', 'W', 'PH', 'PHB', 'T', 'HFX_FORCE', 'LH_FORCE', 'TSK_FORCE', 'HFX_FORCE_TEND', 'LH_FORCE_TEND', 'TSK_FORCE_TEND', 'MU', 'MUB', 'NEST_POS', 'P', 'PB', 'FNM', 'FNP', 'RDNW', 'RDN', 'DNW', 'DN', 'CFN', 'CFN1', 'THIS_IS_AN_IDEAL_RUN', 'P_HYD', 'Q2', 'T2', 'TH2', 'PSFC', 'U10', 'V10', 'RDX', 'RDY', 'RESM', 'ZETATOP', 'CF1', 'CF2', 'CF3', 'ITIMESTEP', 'XTIME', 'QVAPOR', 'QCLOUD', 'QRAIN', 'QICE', 'QSNOW', 'QGRAUP', 'SHDMAX', 'SHDMIN', 'SNOALB', 'TSLB', 'SMOIS', 'SH2O', 'SMCREL', 'SEAICE', 'XICEM', 'SFROFF', 'UDROFF', 'IVGTYP', 'ISLTYP', 'VEGFRA', 'GRDFLX', 'ACGRDFLX', 'ACSNOM', 'SNOW', 'SNOWH', 'CANWAT', 'SSTSK', 'COSZEN', 'LAI', 'VAR', 'MAPFAC_M', 'MAPFAC_U', 'MAPFAC_V', 'MAPFAC_MX', 'MAPFAC_MY', 'MAPFAC_UX', 'MAPFAC_UY', 'MAPFAC_VX', 'MF_VX_INV', 'MAPFAC_VY', 'F', 'E', 'SINALPHA', 'COSALPHA', 'HGT', 'TSK', 'P_TOP', 'T00', 'P00', 'TLP', 'TISO', 'TLP_STRAT', 'P_STRAT', 'MAX_MSTFX', 'MAX_MSTFY', 'RAINC', 'RAINSH', 'RAINNC', 'SNOWNC', 'GRAUPELNC', 'HAILNC', 'CLDFRA', 'SWDOWN', 'GLW', 'SWNORM', 'OLR', 'XLAT_U', 'XLONG_U', 'XLAT_V', 'XLONG_V', 'ALBEDO', 'CLAT', 'ALBBCK', 'EMISS', 'NOAHRES', 'TMN', 'XLAND', 'UST', 'PBLH', 'HFX', 'QFX', 'LH', 'ACHFX', 'ACLHF', 'SNOWC', 'SR', 'SAVE_TOPO_FROM_REAL', 'EROD', 'CLDFRA2', 'RAINPROD', 'EVAPPROD', 'UST_T', 'ROUGH_COR', 'SMOIS_COR', 'DUSTLOAD_1', 'DUSTLOAD_2', 'DUSTLOAD_3', 'DUSTLOAD_4', 'DUSTLOAD_5', 'DRYDEPVEL', 'GRASET_1', 'GRASET_2', 'GRASET_3', 'GRASET_4', 'GRASET_5', 'DRYDEP_1', 'DRYDEP_2', 'DRYDEP_3', 'DRYDEP_4', 'DRYDEP_5', 'EDUST1', 'EDUST2', 'EDUST3', 'EDUST4', 'EDUST5', 'DRY_DEP_LEN', 'DRY_DEP_FLUX', 'WET_DEP_FLUX', 'EBIO_ISO', 'EBIO_API', 'LAI_VEGMASK', 'dvel_o3', 'PM2_5_DRY', 'PM10', 'DMS_0', 'PHOTR201', 'PHOTR202', 'PHOTR203', 'so2', 'sulf', 'no2', 'no', 'o3', 'hno3', 'h2o2', 'ald', 'hcho', 'op1', 'op2', 'paa', 'ora1', 'ora2', 'nh3', 'n2o5', 'no3', 'pan', 'hc3', 'hc5', 'hc8', 'eth', 'co', 'ol2', 'olt', 'oli', 'tol', 'xyl', 'aco3', 'tpan', 'hono', 'hno4', 'ket', 'gly', 'mgly', 'dcb', 'onit', 'csl', 'iso', 'hcl', 'ho', 'ho2', 'so4aj', 'so4ai', 'nh4aj', 'nh4ai', 'no3aj', 'no3ai', 'naaj', 'naai', 'claj', 'clai', 'orgaro1j', 'orgaro1i', 'orgaro2j', 'orgaro2i', 'orgalk1j', 'orgalk1i', 'orgole1j', 'orgole1i', 'orgba1j', 'orgba1i', 'orgba2j', 'orgba2i', 'orgba3j', 'orgba3i', 'orgba4j', 'orgba4i', 'orgpaj', 'orgpai', 'ecj', 'eci', 'p25j', 'p25i', 'antha', 'seas', 'soila', 'nu0', 'ac0', 'corn', 'ISEEDARR_SPPT', 'ISEEDARR_SKEBS', 'ISEEDARR_RAND_PERTURB', 'ISEEDARRAY_SPP_CONV', 'ISEEDARRAY_SPP_PBL', 'ISEEDARRAY_SPP_LSM', 'BF', 'C1H', 'C2H', 'BH', 'C1F', 'C2F', 'C3H', 'C4H', 'C3F', 'C4F', 'PCB', 'PC', 'LANDMASK', 'LAKEMASK', 'SST', 'SST_INPUT'])\n"
     ]
    }
   ],
   "source": [
    "import netCDF4 as nc\n",
    "import numpy as np\n",
    "\n",
    "file = 'wrfout_d01_2018-01-25_00_00_00'\n",
    "dataset = nc.Dataset(file)\n",
    "print(dataset.variables.keys())"
   ]
  },
  {
   "cell_type": "markdown",
   "metadata": {},
   "source": [
    "#### 查看单个变量在文件中的属性\n",
    "---"
   ]
  },
  {
   "cell_type": "code",
   "execution_count": 2,
   "metadata": {},
   "outputs": [
    {
     "data": {
      "text/plain": [
       "<class 'netCDF4._netCDF4.Variable'>\n",
       "float32 PM2_5_DRY(Time, bottom_top, south_north, west_east)\n",
       "    FieldType: 104\n",
       "    MemoryOrder: XYZ\n",
       "    description: pm2.5 aerosol dry mass\n",
       "    units: ug m^-3\n",
       "    stagger: \n",
       "    coordinates: XLONG XLAT XTIME\n",
       "unlimited dimensions: Time\n",
       "current shape = (55, 31, 90, 90)\n",
       "filling on, default _FillValue of 9.969209968386869e+36 used"
      ]
     },
     "execution_count": 2,
     "metadata": {},
     "output_type": "execute_result"
    }
   ],
   "source": [
    "PM2 = dataset.variables[\"PM2_5_DRY\"]\n",
    "PM2"
   ]
  },
  {
   "cell_type": "markdown",
   "metadata": {},
   "source": [
    "#### 文件中的变量数\n",
    "---"
   ]
  },
  {
   "cell_type": "code",
   "execution_count": 3,
   "metadata": {},
   "outputs": [
    {
     "data": {
      "text/plain": [
       "281"
      ]
     },
     "execution_count": 3,
     "metadata": {},
     "output_type": "execute_result"
    }
   ],
   "source": [
    "len(dataset.variables.keys())"
   ]
  },
  {
   "cell_type": "markdown",
   "metadata": {},
   "source": [
    "#### 去掉全部的非 4 维变量\n",
    "---"
   ]
  },
  {
   "cell_type": "code",
   "execution_count": 4,
   "metadata": {},
   "outputs": [],
   "source": [
    "Key =  []\n",
    "\n",
    "for var in dataset.variables:\n",
    "    if len(dataset.variables[var].shape) == 4:\n",
    "        Key.append(var)"
   ]
  },
  {
   "cell_type": "markdown",
   "metadata": {},
   "source": [
    "#### 全部非 4 维变量变量名\n",
    "---"
   ]
  },
  {
   "cell_type": "code",
   "execution_count": 5,
   "metadata": {},
   "outputs": [
    {
     "data": {
      "text/plain": [
       "['U',\n",
       " 'V',\n",
       " 'W',\n",
       " 'PH',\n",
       " 'PHB',\n",
       " 'T',\n",
       " 'P',\n",
       " 'PB',\n",
       " 'P_HYD',\n",
       " 'QVAPOR',\n",
       " 'QCLOUD',\n",
       " 'QRAIN',\n",
       " 'QICE',\n",
       " 'QSNOW',\n",
       " 'QGRAUP',\n",
       " 'TSLB',\n",
       " 'SMOIS',\n",
       " 'SH2O',\n",
       " 'SMCREL',\n",
       " 'CLDFRA',\n",
       " 'EROD',\n",
       " 'CLDFRA2',\n",
       " 'RAINPROD',\n",
       " 'EVAPPROD',\n",
       " 'EDUST1',\n",
       " 'EDUST2',\n",
       " 'EDUST3',\n",
       " 'EDUST4',\n",
       " 'EDUST5',\n",
       " 'DRY_DEP_LEN',\n",
       " 'DRY_DEP_FLUX',\n",
       " 'WET_DEP_FLUX',\n",
       " 'dvel_o3',\n",
       " 'PM2_5_DRY',\n",
       " 'PM10',\n",
       " 'PHOTR201',\n",
       " 'PHOTR202',\n",
       " 'PHOTR203',\n",
       " 'so2',\n",
       " 'sulf',\n",
       " 'no2',\n",
       " 'no',\n",
       " 'o3',\n",
       " 'hno3',\n",
       " 'h2o2',\n",
       " 'ald',\n",
       " 'hcho',\n",
       " 'op1',\n",
       " 'op2',\n",
       " 'paa',\n",
       " 'ora1',\n",
       " 'ora2',\n",
       " 'nh3',\n",
       " 'n2o5',\n",
       " 'no3',\n",
       " 'pan',\n",
       " 'hc3',\n",
       " 'hc5',\n",
       " 'hc8',\n",
       " 'eth',\n",
       " 'co',\n",
       " 'ol2',\n",
       " 'olt',\n",
       " 'oli',\n",
       " 'tol',\n",
       " 'xyl',\n",
       " 'aco3',\n",
       " 'tpan',\n",
       " 'hono',\n",
       " 'hno4',\n",
       " 'ket',\n",
       " 'gly',\n",
       " 'mgly',\n",
       " 'dcb',\n",
       " 'onit',\n",
       " 'csl',\n",
       " 'iso',\n",
       " 'hcl',\n",
       " 'ho',\n",
       " 'ho2',\n",
       " 'so4aj',\n",
       " 'so4ai',\n",
       " 'nh4aj',\n",
       " 'nh4ai',\n",
       " 'no3aj',\n",
       " 'no3ai',\n",
       " 'naaj',\n",
       " 'naai',\n",
       " 'claj',\n",
       " 'clai',\n",
       " 'orgaro1j',\n",
       " 'orgaro1i',\n",
       " 'orgaro2j',\n",
       " 'orgaro2i',\n",
       " 'orgalk1j',\n",
       " 'orgalk1i',\n",
       " 'orgole1j',\n",
       " 'orgole1i',\n",
       " 'orgba1j',\n",
       " 'orgba1i',\n",
       " 'orgba2j',\n",
       " 'orgba2i',\n",
       " 'orgba3j',\n",
       " 'orgba3i',\n",
       " 'orgba4j',\n",
       " 'orgba4i',\n",
       " 'orgpaj',\n",
       " 'orgpai',\n",
       " 'ecj',\n",
       " 'eci',\n",
       " 'p25j',\n",
       " 'p25i',\n",
       " 'antha',\n",
       " 'seas',\n",
       " 'soila',\n",
       " 'nu0',\n",
       " 'ac0',\n",
       " 'corn']"
      ]
     },
     "execution_count": 5,
     "metadata": {},
     "output_type": "execute_result"
    }
   ],
   "source": [
    "Key"
   ]
  },
  {
   "cell_type": "markdown",
   "metadata": {},
   "source": [
    "#### 打印变量名、变量描述、变量形状、变量单位\n",
    "---"
   ]
  },
  {
   "cell_type": "code",
   "execution_count": 6,
   "metadata": {},
   "outputs": [
    {
     "name": "stdout",
     "output_type": "stream",
     "text": [
      "U \t x-wind component \t (55, 31, 90, 91) \t m s-1\n",
      "V \t y-wind component \t (55, 31, 91, 90) \t m s-1\n",
      "W \t z-wind component \t (55, 32, 90, 90) \t m s-1\n",
      "PH \t perturbation geopotential \t (55, 32, 90, 90) \t m2 s-2\n",
      "PHB \t base-state geopotential \t (55, 32, 90, 90) \t m2 s-2\n",
      "T \t perturbation potential temperature (theta-t0) \t (55, 31, 90, 90) \t K\n",
      "P \t perturbation pressure \t (55, 31, 90, 90) \t Pa\n",
      "PB \t BASE STATE PRESSURE \t (55, 31, 90, 90) \t Pa\n",
      "P_HYD \t hydrostatic pressure \t (55, 31, 90, 90) \t Pa\n",
      "QVAPOR \t Water vapor mixing ratio \t (55, 31, 90, 90) \t kg kg-1\n",
      "QCLOUD \t Cloud water mixing ratio \t (55, 31, 90, 90) \t kg kg-1\n",
      "QRAIN \t Rain water mixing ratio \t (55, 31, 90, 90) \t kg kg-1\n",
      "QICE \t Ice mixing ratio \t (55, 31, 90, 90) \t kg kg-1\n",
      "QSNOW \t Snow mixing ratio \t (55, 31, 90, 90) \t kg kg-1\n",
      "QGRAUP \t Graupel mixing ratio \t (55, 31, 90, 90) \t kg kg-1\n",
      "TSLB \t SOIL TEMPERATURE \t (55, 4, 90, 90) \t K\n",
      "SMOIS \t SOIL MOISTURE \t (55, 4, 90, 90) \t m3 m-3\n",
      "SH2O \t SOIL LIQUID WATER \t (55, 4, 90, 90) \t m3 m-3\n",
      "SMCREL \t RELATIVE SOIL MOISTURE \t (55, 4, 90, 90) \t \n",
      "CLDFRA \t CLOUD FRACTION \t (55, 31, 90, 90) \t \n",
      "EROD \t fraction of erodible surface in each grid cell (0-1) \t (55, 3, 90, 90) \t none\n",
      "CLDFRA2 \t CLOUD FRACTION \t (55, 31, 90, 90) \t -\n",
      "RAINPROD \t TOTAL RAIN PRODUCTION RATE \t (55, 31, 90, 90) \t s-1\n",
      "EVAPPROD \t RAIN EVAPORATION RATE \t (55, 31, 90, 90) \t s-1\n",
      "EDUST1 \t DUST emissions bin1 \t (55, 1, 90, 90) \t \n",
      "EDUST2 \t DUST emissions bin2 \t (55, 1, 90, 90) \t \n",
      "EDUST3 \t DUST emissions bin3 \t (55, 1, 90, 90) \t \n",
      "EDUST4 \t DUST emissions bin4 \t (55, 1, 90, 90) \t \n",
      "EDUST5 \t DUST emissions bin5 \t (55, 1, 90, 90) \t \n",
      "DRY_DEP_LEN \t dry deposition velocity \t (55, 41, 90, 90) \t cm/s\n",
      "DRY_DEP_FLUX \t dry deposition flux \t (55, 41, 90, 90) \t mol or ug m^-2\n",
      "WET_DEP_FLUX \t column wet scavening flux \t (55, 41, 90, 90) \t mmol or ug m^-2\n",
      "dvel_o3 \t O3 deposition velocity \t (55, 1, 90, 90) \t cm/s\n",
      "PM2_5_DRY \t pm2.5 aerosol dry mass \t (55, 31, 90, 90) \t ug m^-3\n",
      "PM10 \t pm10 dry mass \t (55, 31, 90, 90) \t ug m^-3\n",
      "PHOTR201 \t cl2 photolysis rate \t (55, 31, 90, 90) \t min{-1}\n",
      "PHOTR202 \t hocl photolysis rate \t (55, 31, 90, 90) \t min{-1}\n",
      "PHOTR203 \t fmcl photolysis rate \t (55, 31, 90, 90) \t min{-1}\n",
      "so2 \t SO2 mixing ratio \t (55, 31, 90, 90) \t ppmv\n",
      "sulf \t SULF mixing ratio \t (55, 31, 90, 90) \t ppmv\n",
      "no2 \t NO2 mixing ratio \t (55, 31, 90, 90) \t ppmv\n",
      "no \t NO mixing ratio \t (55, 31, 90, 90) \t ppmv\n",
      "o3 \t O3 mixing ratio \t (55, 31, 90, 90) \t ppmv\n",
      "hno3 \t HNO3 mixing ratio \t (55, 31, 90, 90) \t ppmv\n",
      "h2o2 \t H2O2 mixing ratio \t (55, 31, 90, 90) \t ppmv\n",
      "ald \t ALD mixing ratio \t (55, 31, 90, 90) \t ppmv\n",
      "hcho \t HCHO mixing ratio \t (55, 31, 90, 90) \t ppmv\n",
      "op1 \t OP1 mixing ratio \t (55, 31, 90, 90) \t ppmv\n",
      "op2 \t OP2 mixing ratio \t (55, 31, 90, 90) \t ppmv\n",
      "paa \t PAA mixing ratio \t (55, 31, 90, 90) \t ppmv\n",
      "ora1 \t ORA1 mixing ratio \t (55, 31, 90, 90) \t ppmv\n",
      "ora2 \t ORA2 mixing ratio \t (55, 31, 90, 90) \t ppmv\n",
      "nh3 \t NH3 mixing ratio \t (55, 31, 90, 90) \t ppmv\n",
      "n2o5 \t N2O5 mixing ratio \t (55, 31, 90, 90) \t ppmv\n",
      "no3 \t NO3 mixing ratio \t (55, 31, 90, 90) \t ppmv\n",
      "pan \t PAN mixing ratio \t (55, 31, 90, 90) \t ppmv\n",
      "hc3 \t HC3 mixing ratio \t (55, 31, 90, 90) \t ppmv\n",
      "hc5 \t HC5 mixing ratio \t (55, 31, 90, 90) \t ppmv\n",
      "hc8 \t HC8 mixing ratio \t (55, 31, 90, 90) \t ppmv\n",
      "eth \t ETH mixing ratio \t (55, 31, 90, 90) \t ppmv\n",
      "co \t CO mixing ratio \t (55, 31, 90, 90) \t ppmv\n",
      "ol2 \t OL2 mixing ratio \t (55, 31, 90, 90) \t ppmv\n",
      "olt \t OLT mixing ratio \t (55, 31, 90, 90) \t ppmv\n",
      "oli \t OLI mixing ratio \t (55, 31, 90, 90) \t ppmv\n",
      "tol \t TOL mixing ratio \t (55, 31, 90, 90) \t ppmv\n",
      "xyl \t XYL mixing ratio \t (55, 31, 90, 90) \t ppmv\n",
      "aco3 \t ACO3 mixing ratio \t (55, 31, 90, 90) \t ppmv\n",
      "tpan \t TPAN mixing ratio \t (55, 31, 90, 90) \t ppmv\n",
      "hono \t HONO mixing ratio \t (55, 31, 90, 90) \t ppmv\n",
      "hno4 \t HNO4 mixing ratio \t (55, 31, 90, 90) \t ppmv\n",
      "ket \t KET mixing ratio \t (55, 31, 90, 90) \t ppmv\n",
      "gly \t GLY mixing ratio \t (55, 31, 90, 90) \t ppmv\n",
      "mgly \t MGLY mixing ratio \t (55, 31, 90, 90) \t ppmv\n",
      "dcb \t DCB mixing ratio \t (55, 31, 90, 90) \t ppmv\n",
      "onit \t ONIT mixing ratio \t (55, 31, 90, 90) \t ppmv\n",
      "csl \t CSL mixing ratio \t (55, 31, 90, 90) \t ppmv\n",
      "iso \t ISO mixing ratio \t (55, 31, 90, 90) \t ppmv\n",
      "hcl \t HCL mixing ratio \t (55, 31, 90, 90) \t ppmv\n",
      "ho \t HO mixing ratio \t (55, 31, 90, 90) \t ppmv\n",
      "ho2 \t HO2 mixing ratio \t (55, 31, 90, 90) \t ppmv\n",
      "so4aj \t Sulfate conc. Acc. mode \t (55, 31, 90, 90) \t ug/kg-dryair\n",
      "so4ai \t Sulfate conc. Aitken mode \t (55, 31, 90, 90) \t ug/kg-dryair\n",
      "nh4aj \t Ammonium conc. Acc. mode \t (55, 31, 90, 90) \t ug/kg-dryair\n",
      "nh4ai \t Ammonium  conc. Aitken mode \t (55, 31, 90, 90) \t ug/kg-dryair\n",
      "no3aj \t Nitrate  conc. Acc. mode \t (55, 31, 90, 90) \t ug/kg-dryair\n",
      "no3ai \t Nitrate  conc. Aitken mode \t (55, 31, 90, 90) \t ug/kg-dryair\n",
      "naaj \t Sodium   conc. Acc. mode \t (55, 31, 90, 90) \t ug/kg-dryair\n",
      "naai \t Sodium   conc. Aitken mode \t (55, 31, 90, 90) \t ug/kg-dryair\n",
      "claj \t Chloride conc. Acc. mode \t (55, 31, 90, 90) \t ug/kg-dryair\n",
      "clai \t Chloride conc. Aitken mode \t (55, 31, 90, 90) \t ug/kg-dryair\n",
      "orgaro1j \t SOA Anth. org. conc. from aromatics Acc. mode \t (55, 31, 90, 90) \t ug/kg-dryair\n",
      "orgaro1i \t SOA Anth. org. conc. from aromatics Aitken mode \t (55, 31, 90, 90) \t ug/kg-dryair\n",
      "orgaro2j \t SOA Anth. org. conc. from aromatics Acc. mode \t (55, 31, 90, 90) \t ug/kg-dryair\n",
      "orgaro2i \t SOA Anth. org. conc. from aromatics Aitken mode \t (55, 31, 90, 90) \t ug/kg-dryair\n",
      "orgalk1j \t SOA Anth. org. conc. from alkanes and others except aromatics Acc. mode \t (55, 31, 90, 90) \t ug/kg-dryair\n",
      "orgalk1i \t SOA Anth. org. conc. from alkanes and others except aromatics Aitken mode \t (55, 31, 90, 90) \t ug/kg-dryair\n",
      "orgole1j \t SOA Anth. org. conc. from alkenes and others except aromatics Acc. mode \t (55, 31, 90, 90) \t ug/kg-dryair\n",
      "orgole1i \t SOA Anth. org. conc. from alkenes and others except aromatics Aitken mode \t (55, 31, 90, 90) \t ug/kg-dryair\n",
      "orgba1j \t SOA Biog. org. conc. from aromatics Acc. mode \t (55, 31, 90, 90) \t ug/kg-dryair\n",
      "orgba1i \t SOA Biog. org. conc. from aromatics Aitken mode \t (55, 31, 90, 90) \t ug/kg-dryair\n",
      "orgba2j \t SOA Biog. org. conc. from aromatics Acc. mode \t (55, 31, 90, 90) \t ug/kg-dryair\n",
      "orgba2i \t SOA Biog. org. conc. from aromatics Aitken mode \t (55, 31, 90, 90) \t ug/kg-dryair\n",
      "orgba3j \t SOA Biog. org. conc. from aromatics Acc. mode \t (55, 31, 90, 90) \t ug/kg-dryair\n",
      "orgba3i \t SOA Biog. org. conc. from aromatics Aitken mode \t (55, 31, 90, 90) \t ug/kg-dryair\n",
      "orgba4j \t SOA Biog. org. conc. from aromatics Acc. mode \t (55, 31, 90, 90) \t ug/kg-dryair\n",
      "orgba4i \t SOA Biog. org. conc. from aromatics Aitken mode \t (55, 31, 90, 90) \t ug/kg-dryair\n",
      "orgpaj \t Prim. anth. org. conc. from aromatics Acc. mode \t (55, 31, 90, 90) \t ug/kg-dryair\n",
      "orgpai \t Prim. anth. org. conc. from aromatics Aitken mode \t (55, 31, 90, 90) \t ug/kg-dryair\n",
      "ecj \t Elemental carbon Acc. mode \t (55, 31, 90, 90) \t ug/kg-dryair\n",
      "eci \t Elemental carbon Aitken mode \t (55, 31, 90, 90) \t ug/kg-dryair\n",
      "p25j \t Primary PM2.5 Acc. mode \t (55, 31, 90, 90) \t ug/kg-dryair\n",
      "p25i \t Primary PM2.5 Aitken mode \t (55, 31, 90, 90) \t ug/kg-dryair\n",
      "antha \t Coarse anthropogenic aerosols \t (55, 31, 90, 90) \t ug/kg-dryair\n",
      "seas \t Coarse marine aerosols \t (55, 31, 90, 90) \t ug/kg-dryair\n",
      "soila \t Coarse soil-derived aerosols \t (55, 31, 90, 90) \t ug/kg-dryair\n",
      "nu0 \t Aitken mode number \t (55, 31, 90, 90) \t  /kg-dryair\n",
      "ac0 \t Accumulation mode number \t (55, 31, 90, 90) \t  /kg-dryair\n",
      "corn \t Coarse mode number \t (55, 31, 90, 90) \t  /kg-dryair\n"
     ]
    }
   ],
   "source": [
    "for k in Key:\n",
    "    print(k, \"\\t\", dataset.variables[k].description, \"\\t\", dataset.variables[k].shape, \"\\t\", dataset.variables[k].units)"
   ]
  },
  {
   "cell_type": "markdown",
   "metadata": {},
   "source": [
    "#### 去掉均值小于 1e-10 的变量\n",
    "---"
   ]
  },
  {
   "cell_type": "code",
   "execution_count": 7,
   "metadata": {},
   "outputs": [],
   "source": [
    "no_zero_key = []\n",
    "for var in Key:\n",
    "    if dataset.variables[var][:].data.mean() > 1e-10:\n",
    "        if dataset.variables[var].shape[1] > 30:\n",
    "            no_zero_key.append(var)"
   ]
  },
  {
   "cell_type": "markdown",
   "metadata": {},
   "source": [
    "#### 非 0 变量\n",
    "---"
   ]
  },
  {
   "cell_type": "code",
   "execution_count": 8,
   "metadata": {},
   "outputs": [
    {
     "data": {
      "text/plain": [
       "['U',\n",
       " 'PHB',\n",
       " 'T',\n",
       " 'P',\n",
       " 'PB',\n",
       " 'P_HYD',\n",
       " 'QVAPOR',\n",
       " 'QCLOUD',\n",
       " 'QRAIN',\n",
       " 'QICE',\n",
       " 'QSNOW',\n",
       " 'QGRAUP',\n",
       " 'CLDFRA',\n",
       " 'PM2_5_DRY',\n",
       " 'PM10',\n",
       " 'so2',\n",
       " 'sulf',\n",
       " 'no2',\n",
       " 'no',\n",
       " 'o3',\n",
       " 'hno3',\n",
       " 'h2o2',\n",
       " 'ald',\n",
       " 'hcho',\n",
       " 'op1',\n",
       " 'op2',\n",
       " 'paa',\n",
       " 'ora1',\n",
       " 'ora2',\n",
       " 'nh3',\n",
       " 'n2o5',\n",
       " 'no3',\n",
       " 'pan',\n",
       " 'hc3',\n",
       " 'hc5',\n",
       " 'hc8',\n",
       " 'eth',\n",
       " 'co',\n",
       " 'ol2',\n",
       " 'olt',\n",
       " 'oli',\n",
       " 'tol',\n",
       " 'xyl',\n",
       " 'aco3',\n",
       " 'tpan',\n",
       " 'hono',\n",
       " 'hno4',\n",
       " 'ket',\n",
       " 'gly',\n",
       " 'mgly',\n",
       " 'dcb',\n",
       " 'onit',\n",
       " 'csl',\n",
       " 'iso',\n",
       " 'hcl',\n",
       " 'ho',\n",
       " 'ho2',\n",
       " 'so4aj',\n",
       " 'so4ai',\n",
       " 'nh4aj',\n",
       " 'nh4ai',\n",
       " 'no3aj',\n",
       " 'no3ai',\n",
       " 'naaj',\n",
       " 'naai',\n",
       " 'claj',\n",
       " 'clai',\n",
       " 'orgaro1j',\n",
       " 'orgaro1i',\n",
       " 'orgaro2j',\n",
       " 'orgaro2i',\n",
       " 'orgalk1j',\n",
       " 'orgalk1i',\n",
       " 'orgole1j',\n",
       " 'orgole1i',\n",
       " 'orgpaj',\n",
       " 'orgpai',\n",
       " 'ecj',\n",
       " 'eci',\n",
       " 'p25j',\n",
       " 'p25i',\n",
       " 'antha',\n",
       " 'nu0',\n",
       " 'ac0',\n",
       " 'corn']"
      ]
     },
     "execution_count": 8,
     "metadata": {},
     "output_type": "execute_result"
    }
   ],
   "source": [
    "no_zero_key"
   ]
  },
  {
   "cell_type": "markdown",
   "metadata": {},
   "source": [
    "#### 最终 Key 从非零变量中选出\n",
    "---"
   ]
  },
  {
   "cell_type": "code",
   "execution_count": 9,
   "metadata": {},
   "outputs": [],
   "source": [
    "key = ['PM10', 'PM2_5_DRY', 'U', 'V', 'QVAPOR','CLDFRA','QRAIN','QICE','QSNOW','QGRAUP','CLDFRA','so2','sulf','no2', 'no','o3','hno3','h2o2','ald','hcho','op1','op2','paa','ora1','ora2','nh3','n2o5','no3','pan','hc3','hc5','hc8','eth','co','ol2','olt','oli','tol','xyl','aco3','tpan','hono','hno4','ket','gly','mgly','dcb','onit','csl','iso','hcl','ho','ho2','so4aj', 'so4ai', 'nh4aj', 'nh4ai', 'no3aj', 'no3ai', 'naaj','naai','claj','clai','orgaro1j', 'orgaro1i', 'orgaro2j', 'orgaro2i', 'orgalk1j', 'orgalk1i', 'orgole1j', 'orgole1i', 'orgpaj', 'orgpai', 'ecj', 'eci', 'p25j', 'p25i', 'antha']"
   ]
  }
 ],
 "metadata": {
  "interpreter": {
   "hash": "6f8ee94c255eb1f45edb80e83721093c1db1e2ea85447c0854292673b957abb8"
  },
  "kernelspec": {
   "display_name": "Python 3.9.7 ('base')",
   "language": "python",
   "name": "python3"
  },
  "language_info": {
   "codemirror_mode": {
    "name": "ipython",
    "version": 3
   },
   "file_extension": ".py",
   "mimetype": "text/x-python",
   "name": "python",
   "nbconvert_exporter": "python",
   "pygments_lexer": "ipython3",
   "version": "3.9.7"
  },
  "orig_nbformat": 4
 },
 "nbformat": 4,
 "nbformat_minor": 2
}
